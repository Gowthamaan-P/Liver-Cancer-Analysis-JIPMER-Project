{
 "cells": [
  {
   "cell_type": "code",
   "execution_count": 14,
   "id": "548573f7",
   "metadata": {},
   "outputs": [],
   "source": [
    "from __future__ import print_function\n",
    "import sys\n",
    "import os\n",
    "from itk import imread\n",
    "from SimpleITK import ImageSeriesReader, WriteImage\n",
    "from ipywidgets.embed import embed_minimal_html\n",
    "from itkwidgets import view\n",
    "import webbrowser\n",
    "import numpy as np\n",
    "import itk as itk\n",
    "from nrrd import read \n",
    "from nibabel import Nifti1Image, save, load"
   ]
  },
  {
   "cell_type": "code",
   "execution_count": 9,
   "id": "806a77f9",
   "metadata": {},
   "outputs": [
    {
     "name": "stdout",
     "output_type": "stream",
     "text": [
      "Enter the name of the output Liver file: liver\n",
      "Enter the name of the output Tumour file: tumour\n"
     ]
    }
   ],
   "source": [
    "# Directory names\n",
    "dirName = \"F:\\\\Liver Project\\\\Patient 1\\\\Segmented Liver\\\\\"\n",
    "maskDir = \"F:\\\\Liver Project\\\\Patient 1\\\\Segmented Tumour\\\\\"\n",
    "outputName = input(\"Enter the name of the output Liver file: \")\n",
    "tumourName = input(\"Enter the name of the output Tumour file: \")"
   ]
  },
  {
   "cell_type": "code",
   "execution_count": 10,
   "id": "4684b211",
   "metadata": {},
   "outputs": [
    {
     "name": "stdout",
     "output_type": "stream",
     "text": [
      "Reading Dicom directory: F:\\Liver Project\\Patient 1\\Segmented Liver\\\n",
      "Writing image:  liver.nrrd\n"
     ]
    }
   ],
   "source": [
    "# Reading the series of DICOM for Liver\n",
    "print(\"Reading Dicom directory:\", dirName)\n",
    "reader = ImageSeriesReader()\n",
    "dicom_names = reader.GetGDCMSeriesFileNames(dirName)\n",
    "reader.SetFileNames(dicom_names)\n",
    "image = reader.Execute()\n",
    "size = image.GetSize()\n",
    "print(\"Writing image: \", outputName+\".nrrd\")\n",
    "WriteImage(image, outputName+\".nrrd\")"
   ]
  },
  {
   "cell_type": "code",
   "execution_count": 11,
   "id": "7efdb982",
   "metadata": {},
   "outputs": [
    {
     "name": "stdout",
     "output_type": "stream",
     "text": [
      "Reading Dicom directory: F:\\Liver Project\\Patient 1\\Segmented Tumour\\\n",
      "Writing image:  tumour.nrrd\n"
     ]
    }
   ],
   "source": [
    "# Reading the series of DICOM for Tumour\n",
    "print(\"Reading Dicom directory:\", maskDir)\n",
    "reader = ImageSeriesReader()\n",
    "dicom_names = reader.GetGDCMSeriesFileNames(maskDir)\n",
    "reader.SetFileNames(dicom_names)\n",
    "image = reader.Execute()\n",
    "size = image.GetSize()\n",
    "print(\"Writing image: \", tumourName+\".nrrd\")\n",
    "WriteImage(image, tumourName+\".nrrd\")"
   ]
  },
  {
   "cell_type": "code",
   "execution_count": 17,
   "id": "999d9ea8",
   "metadata": {},
   "outputs": [
    {
     "data": {
      "text/plain": [
       "True"
      ]
     },
     "execution_count": 17,
     "metadata": {},
     "output_type": "execute_result"
    }
   ],
   "source": [
    "# Viewing Liver\n",
    "image = imread(outputName+\".nrrd\")\n",
    "#views = view(image)\n",
    "embed_minimal_html(outputName+\".html\",views = [views],title = \"Export\")\n",
    "webbrowser.open_new_tab(outputName+\".html\")"
   ]
  },
  {
   "cell_type": "code",
   "execution_count": null,
   "id": "186ea22c",
   "metadata": {},
   "outputs": [],
   "source": [
    "# Viewing Tumour\n",
    "seg = imread(tumourName+\".nrrd\")\n",
    "views = view(seg)\n",
    "embed_minimal_html(tumourName+\".html\",views = [views],title = \"Export\")\n",
    "webbrowser.open_new_tab(tumourName+\".html\")"
   ]
  },
  {
   "cell_type": "code",
   "execution_count": 18,
   "id": "6cffb50c",
   "metadata": {},
   "outputs": [],
   "source": [
    "# nii file generation\n",
    "# load nrrd \n",
    "_nrrd = read(outputName + \".nrrd\")\n",
    "data = _nrrd[0]\n",
    "header = _nrrd[1]"
   ]
  },
  {
   "cell_type": "code",
   "execution_count": 19,
   "id": "5838249f",
   "metadata": {},
   "outputs": [],
   "source": [
    "# save nifti\n",
    "img = Nifti1Image(data, np.eye(4))\n",
    "save(img, outputName + '.nii')"
   ]
  },
  {
   "cell_type": "code",
   "execution_count": 20,
   "id": "980e0d48",
   "metadata": {},
   "outputs": [],
   "source": [
    "# for tumour nrrd\n",
    "_nrrd = read(tumourName + \".nrrd\")\n",
    "data = _nrrd[0]\n",
    "header = _nrrd[1]"
   ]
  },
  {
   "cell_type": "code",
   "execution_count": 21,
   "id": "44a98676",
   "metadata": {},
   "outputs": [],
   "source": [
    "# save nifti\n",
    "img = Nifti1Image(data, np.eye(4))\n",
    "save(img, tumourName + '.nii')"
   ]
  },
  {
   "cell_type": "code",
   "execution_count": 22,
   "id": "007b5286",
   "metadata": {},
   "outputs": [
    {
     "name": "stdout",
     "output_type": "stream",
     "text": [
      "liver volume: 1311.7173523406982 cc\n"
     ]
    }
   ],
   "source": [
    "# Liver volume calculation\n",
    "img_np = np.array(image) #convert to numpy array\n",
    "binarry = np.where(img_np>0,1,0)  #binary array - one where liver is present, zero where it is not\n",
    "space = image.GetSpacing() #starting from the origin location of the model\n",
    "voxel = np.prod(space)     #one voxel unit volume analogous to pixel in 2d\n",
    "vol = voxel*np.sum(binarry) #total volume = no. of voxels * volume unit voxel\n",
    "print(outputName+\" volume: \" + str(vol/1000) + \" cc\") #total volume of liver in cc"
   ]
  },
  {
   "cell_type": "code",
   "execution_count": 23,
   "id": "4bfe7a26",
   "metadata": {},
   "outputs": [
    {
     "ename": "NameError",
     "evalue": "name 'seg' is not defined",
     "output_type": "error",
     "traceback": [
      "\u001b[1;31m---------------------------------------------------------------------------\u001b[0m",
      "\u001b[1;31mNameError\u001b[0m                                 Traceback (most recent call last)",
      "\u001b[1;32m<ipython-input-23-f0bbbcc2c230>\u001b[0m in \u001b[0;36m<module>\u001b[1;34m\u001b[0m\n\u001b[0;32m      1\u001b[0m \u001b[1;31m# Total Tumour volume calculation\u001b[0m\u001b[1;33m\u001b[0m\u001b[1;33m\u001b[0m\u001b[1;33m\u001b[0m\u001b[0m\n\u001b[1;32m----> 2\u001b[1;33m \u001b[0mimg_np\u001b[0m \u001b[1;33m=\u001b[0m \u001b[0mnp\u001b[0m\u001b[1;33m.\u001b[0m\u001b[0marray\u001b[0m\u001b[1;33m(\u001b[0m\u001b[0mseg\u001b[0m\u001b[1;33m)\u001b[0m\u001b[1;33m\u001b[0m\u001b[1;33m\u001b[0m\u001b[0m\n\u001b[0m\u001b[0;32m      3\u001b[0m \u001b[0mbinarry\u001b[0m \u001b[1;33m=\u001b[0m \u001b[0mnp\u001b[0m\u001b[1;33m.\u001b[0m\u001b[0mwhere\u001b[0m\u001b[1;33m(\u001b[0m\u001b[0mimg_np\u001b[0m\u001b[1;33m>\u001b[0m\u001b[1;36m0\u001b[0m\u001b[1;33m,\u001b[0m\u001b[1;36m1\u001b[0m\u001b[1;33m,\u001b[0m\u001b[1;36m0\u001b[0m\u001b[1;33m)\u001b[0m\u001b[1;33m\u001b[0m\u001b[1;33m\u001b[0m\u001b[0m\n\u001b[0;32m      4\u001b[0m \u001b[0mspace\u001b[0m \u001b[1;33m=\u001b[0m \u001b[0mimage\u001b[0m\u001b[1;33m.\u001b[0m\u001b[0mGetSpacing\u001b[0m\u001b[1;33m(\u001b[0m\u001b[1;33m)\u001b[0m\u001b[1;33m\u001b[0m\u001b[1;33m\u001b[0m\u001b[0m\n\u001b[0;32m      5\u001b[0m \u001b[0mvoxel\u001b[0m \u001b[1;33m=\u001b[0m \u001b[0mnp\u001b[0m\u001b[1;33m.\u001b[0m\u001b[0mprod\u001b[0m\u001b[1;33m(\u001b[0m\u001b[0mspace\u001b[0m\u001b[1;33m)\u001b[0m\u001b[1;33m\u001b[0m\u001b[1;33m\u001b[0m\u001b[0m\n",
      "\u001b[1;31mNameError\u001b[0m: name 'seg' is not defined"
     ]
    }
   ],
   "source": [
    "# Total Tumour volume calculation\n",
    "img_np = np.array(seg) \n",
    "binarry = np.where(img_np>0,1,0)  \n",
    "space = image.GetSpacing() \n",
    "voxel = np.prod(space)     \n",
    "vol = voxel*np.sum(binarry) \n",
    "print(\"Total \"+tumourName+\" volume: \" + str(vol/1000) + \" cc\") "
   ]
  },
  {
   "cell_type": "code",
   "execution_count": null,
   "id": "19539680",
   "metadata": {},
   "outputs": [],
   "source": [
    "# Aggressive tumour volume calculation\n",
    "img_seg_nii = load(tumourName+\".nii\")\n",
    "img_seg_np = np.array(seg)\n",
    "slope = img_seg_nii.dataobj.slope\n",
    "inter = img_seg_nii.dataobj.inter\n",
    "hu = np.where(img_seg_np > 0, (img_seg_np*slope + inter),0)\n",
    "agg_tumour = np.where(hu > 90,1,0)\n",
    "agg_vol = np.sum(agg_tumour)*voxel\n",
    "print(\"Aggressive \"+tumourName+\" volume: \" + str(agg_vol/1000) + \" cc\")"
   ]
  },
  {
   "cell_type": "code",
   "execution_count": 24,
   "id": "196b9d9c",
   "metadata": {},
   "outputs": [
    {
     "ename": "NameError",
     "evalue": "name 'hu' is not defined",
     "output_type": "error",
     "traceback": [
      "\u001b[1;31m---------------------------------------------------------------------------\u001b[0m",
      "\u001b[1;31mNameError\u001b[0m                                 Traceback (most recent call last)",
      "\u001b[1;32m<ipython-input-24-a875b7b58d37>\u001b[0m in \u001b[0;36m<module>\u001b[1;34m\u001b[0m\n\u001b[0;32m      1\u001b[0m \u001b[1;31m# Moderately Agg volume calculation\u001b[0m\u001b[1;33m\u001b[0m\u001b[1;33m\u001b[0m\u001b[1;33m\u001b[0m\u001b[0m\n\u001b[1;32m----> 2\u001b[1;33m \u001b[0mmod_tumour\u001b[0m \u001b[1;33m=\u001b[0m \u001b[0mnp\u001b[0m\u001b[1;33m.\u001b[0m\u001b[0mwhere\u001b[0m\u001b[1;33m(\u001b[0m\u001b[0mhu\u001b[0m \u001b[1;33m<\u001b[0m \u001b[1;36m90\u001b[0m\u001b[1;33m,\u001b[0m\u001b[1;36m1\u001b[0m\u001b[1;33m,\u001b[0m\u001b[1;36m0\u001b[0m\u001b[1;33m)\u001b[0m\u001b[1;33m\u001b[0m\u001b[1;33m\u001b[0m\u001b[0m\n\u001b[0m\u001b[0;32m      3\u001b[0m \u001b[0mmod_tumour_1\u001b[0m \u001b[1;33m=\u001b[0m \u001b[0mnp\u001b[0m\u001b[1;33m.\u001b[0m\u001b[0mwhere\u001b[0m\u001b[1;33m(\u001b[0m\u001b[0mhu\u001b[0m \u001b[1;33m>\u001b[0m \u001b[1;36m45\u001b[0m\u001b[1;33m,\u001b[0m\u001b[1;36m1\u001b[0m\u001b[1;33m,\u001b[0m\u001b[1;36m0\u001b[0m\u001b[1;33m)\u001b[0m\u001b[1;33m\u001b[0m\u001b[1;33m\u001b[0m\u001b[0m\n\u001b[0;32m      4\u001b[0m \u001b[0mmod_tumour\u001b[0m \u001b[1;33m=\u001b[0m \u001b[0mmod_tumour\u001b[0m \u001b[1;33m*\u001b[0m \u001b[0mmod_tumour_1\u001b[0m\u001b[1;33m\u001b[0m\u001b[1;33m\u001b[0m\u001b[0m\n\u001b[0;32m      5\u001b[0m \u001b[0mmod_vol\u001b[0m \u001b[1;33m=\u001b[0m \u001b[0mnp\u001b[0m\u001b[1;33m.\u001b[0m\u001b[0msum\u001b[0m\u001b[1;33m(\u001b[0m\u001b[0mmod_tumour\u001b[0m\u001b[1;33m)\u001b[0m\u001b[1;33m*\u001b[0m\u001b[0mvoxel\u001b[0m\u001b[1;33m\u001b[0m\u001b[1;33m\u001b[0m\u001b[0m\n",
      "\u001b[1;31mNameError\u001b[0m: name 'hu' is not defined"
     ]
    }
   ],
   "source": [
    "# Moderately Agg volume calculation\n",
    "mod_tumour = np.where(hu < 90,1,0)\n",
    "mod_tumour_1 = np.where(hu > 45,1,0)\n",
    "mod_tumour = mod_tumour * mod_tumour_1\n",
    "mod_vol = np.sum(mod_tumour)*voxel\n",
    "print(\"Moderately Aggressive \"+tumourName+\" volume: \" + str(mod_vol/1000) + \" cc\")"
   ]
  },
  {
   "cell_type": "code",
   "execution_count": 25,
   "id": "3755ed34",
   "metadata": {},
   "outputs": [
    {
     "ename": "NameError",
     "evalue": "name 'hu' is not defined",
     "output_type": "error",
     "traceback": [
      "\u001b[1;31m---------------------------------------------------------------------------\u001b[0m",
      "\u001b[1;31mNameError\u001b[0m                                 Traceback (most recent call last)",
      "\u001b[1;32m<ipython-input-25-79f537e2dd9b>\u001b[0m in \u001b[0;36m<module>\u001b[1;34m\u001b[0m\n\u001b[0;32m      1\u001b[0m \u001b[1;31m# Less Agg volume calculation\u001b[0m\u001b[1;33m\u001b[0m\u001b[1;33m\u001b[0m\u001b[1;33m\u001b[0m\u001b[0m\n\u001b[1;32m----> 2\u001b[1;33m \u001b[0mless_tumour\u001b[0m \u001b[1;33m=\u001b[0m \u001b[0mnp\u001b[0m\u001b[1;33m.\u001b[0m\u001b[0mwhere\u001b[0m\u001b[1;33m(\u001b[0m\u001b[0mhu\u001b[0m \u001b[1;33m<\u001b[0m \u001b[1;36m45\u001b[0m\u001b[1;33m,\u001b[0m\u001b[1;36m1\u001b[0m\u001b[1;33m,\u001b[0m\u001b[1;36m0\u001b[0m\u001b[1;33m)\u001b[0m\u001b[1;33m\u001b[0m\u001b[1;33m\u001b[0m\u001b[0m\n\u001b[0m\u001b[0;32m      3\u001b[0m \u001b[0mless_tumour_1\u001b[0m \u001b[1;33m=\u001b[0m \u001b[0mnp\u001b[0m\u001b[1;33m.\u001b[0m\u001b[0mwhere\u001b[0m\u001b[1;33m(\u001b[0m\u001b[0mhu\u001b[0m \u001b[1;33m>\u001b[0m \u001b[1;36m0\u001b[0m\u001b[1;33m,\u001b[0m\u001b[1;36m1\u001b[0m\u001b[1;33m,\u001b[0m\u001b[1;36m0\u001b[0m\u001b[1;33m)\u001b[0m\u001b[1;33m\u001b[0m\u001b[1;33m\u001b[0m\u001b[0m\n\u001b[0;32m      4\u001b[0m \u001b[0mless_tumour\u001b[0m \u001b[1;33m=\u001b[0m \u001b[0mless_tumour\u001b[0m \u001b[1;33m*\u001b[0m \u001b[0mless_tumour_1\u001b[0m\u001b[1;33m\u001b[0m\u001b[1;33m\u001b[0m\u001b[0m\n\u001b[0;32m      5\u001b[0m \u001b[0mless_agg\u001b[0m \u001b[1;33m=\u001b[0m \u001b[0mnp\u001b[0m\u001b[1;33m.\u001b[0m\u001b[0msum\u001b[0m\u001b[1;33m(\u001b[0m\u001b[0mless_tumour\u001b[0m\u001b[1;33m)\u001b[0m\u001b[1;33m*\u001b[0m\u001b[0mvoxel\u001b[0m\u001b[1;33m\u001b[0m\u001b[1;33m\u001b[0m\u001b[0m\n",
      "\u001b[1;31mNameError\u001b[0m: name 'hu' is not defined"
     ]
    }
   ],
   "source": [
    "# Less Agg volume calculation\n",
    "less_tumour = np.where(hu < 45,1,0)\n",
    "less_tumour_1 = np.where(hu > 0,1,0)\n",
    "less_tumour = less_tumour * less_tumour_1\n",
    "less_agg = np.sum(less_tumour)*voxel\n",
    "print(\"Less Aggressive \"+tumourName+\" volume: \" + str(less_agg/1000) + \" cc\")"
   ]
  },
  {
   "cell_type": "code",
   "execution_count": null,
   "id": "62f2f859",
   "metadata": {},
   "outputs": [],
   "source": []
  }
 ],
 "metadata": {
  "kernelspec": {
   "display_name": "Python 3",
   "language": "python",
   "name": "python3"
  },
  "language_info": {
   "codemirror_mode": {
    "name": "ipython",
    "version": 3
   },
   "file_extension": ".py",
   "mimetype": "text/x-python",
   "name": "python",
   "nbconvert_exporter": "python",
   "pygments_lexer": "ipython3",
   "version": "3.8.8"
  }
 },
 "nbformat": 4,
 "nbformat_minor": 5
}
