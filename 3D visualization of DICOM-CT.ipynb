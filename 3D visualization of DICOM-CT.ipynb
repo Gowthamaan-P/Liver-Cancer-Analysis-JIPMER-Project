{
 "cells": [
  {
   "cell_type": "markdown",
   "metadata": {
    "id": "_HAFr8fgGY4w",
    "papermill": {
     "duration": 0.045354,
     "end_time": "2020-09-28T12:10:56.393630",
     "exception": false,
     "start_time": "2020-09-28T12:10:56.348276",
     "status": "completed"
    },
    "tags": []
   },
   "source": [
    "# Table of contents\n",
    "\n",
    "* [Introduction](#Introduction)\n",
    "    - [Motivation](#Motivation)\n",
    "    - [Reconstruction versus Windows](#Reconstruction-versus-Windows)\n",
    "    - [Reusable code](#Reusable-code)\n",
    "\n",
    "\n",
    "* [DICOM-CT data 3D visualizations](#DICOM-CT-data-3D-visualizations)\n",
    "    - [Reading data](#Reading-data)\n",
    "    - [Windows and LUTs](#Windows-and-LUTs)\n",
    "    - [3D reconstruction with manual windowing and MarchingCubes algorithm](#3D-reconstruction-with-manual-windowing-and-MarchingCubes-algorithm)"
   ]
  },
  {
   "cell_type": "markdown",
   "metadata": {
    "papermill": {
     "duration": 0.04179,
     "end_time": "2020-09-28T12:10:56.477343",
     "exception": false,
     "start_time": "2020-09-28T12:10:56.435553",
     "status": "completed"
    },
    "tags": []
   },
   "source": [
    "# Introduction"
   ]
  },
  {
   "cell_type": "markdown",
   "metadata": {
    "id": "7pcIltEAGY4y",
    "papermill": {
     "duration": 0.041223,
     "end_time": "2020-09-28T12:10:56.563421",
     "exception": false,
     "start_time": "2020-09-28T12:10:56.522198",
     "status": "completed"
    },
    "tags": []
   },
   "source": [
    "## Motivation\n",
    "The main idea behind this notebook is 3D visualization of DICOM-CT data. The visualization of medical data of this type has great significance in enhancing the process of diagnosis. \n",
    "\n",
    "There are many popular libraries and programs like 3D Slicer, Myrian and so on, which provide the similar 3D Visualization and Volumetry as a premium SaS product. These softwares are highly expensive and proprietary. \n",
    "\n",
    "In this notebook you will find: DICOM-CT visualization and 3D Visualization of the CT Images using a Open Source Algorithm.\n",
    "\n",
    "**Warning: This notebooks presents images containing blood visualizations. If you are afraid of the sight of blood, you read on your own responsibility.**"
   ]
  },
  {
   "cell_type": "markdown",
   "metadata": {},
   "source": [
    "## Project Phases\n",
    "\n",
    "### Phase - 1\n",
    "\n",
    "    1. Visualize the DICOM Images\n",
    "    2. Analyse the DICOM Images and Convert pixel values to HU Units\n",
    "    3. 3D Reconstruction of Liver and the major blood vessels\n",
    "\n",
    "### Phase - 2\n",
    "\n",
    "    1. Differentiate Tumour and Healthy Tissues depending on HU Threshold Values\n",
    "    2. Augment 3D Images of Tumour, Liver and blood vessels in a single 3D Model\n",
    "    3. Conduct Volumetry on the entire model"
   ]
  },
  {
   "cell_type": "markdown",
   "metadata": {
    "papermill": {
     "duration": 0.041195,
     "end_time": "2020-09-28T12:10:56.646471",
     "exception": false,
     "start_time": "2020-09-28T12:10:56.605276",
     "status": "completed"
    },
    "tags": []
   },
   "source": [
    "## Reconstruction and Windowing\n",
    "* source: https://www.youtube.com/watch?v=KZld-5W99cI\n",
    "\n",
    "### Windowing\n",
    "Windows are the different ways that we can visually display the digital information from any set of CT slices and our wide variety of windows common windows that are used at:\n",
    "* lung windows\n",
    "* soft tissue windows (includes liver and other internal organs) \n",
    "* bone windows \n",
    "* brain windows \n",
    "* blood windows \n",
    "and many others.\n",
    "\n",
    "Example windows:\n",
    "![](https://www.stepwards.com/wp-content/uploads/2019/12/Screen-Shot-2019-12-28-at-4.20.41-PM.png)\n",
    "\n",
    "### Reconstruction \n",
    "***Reconstruction*** require the image processing of the raw data commonly by the technologist, but sometimes by the radiologist using specialized software programs the data can be processed in different ways to spending depending on what data we wish to obtain from it or what tissues we wish to display. So typical reconstructions might include a soft tissue, a bone and a lung reconstruction. We can also reconstruct in multiple planes as well as the coronal and sagittal planes. We can do some specialized planes along the organ for any it along the plane of any organ of interest. We can do 3d reconstructions such as surface  reconstruction; maximum intensity projection reconstructions. \n",
    "Reconstructions are done usually by the technologists or by some separate type of software on a different workstation by the radiologist to allow the raw CT data to be manipulated into different projections or different slices depending on what our clinical question is. Example of this procedure is shown in the diagram below:\n",
    "\n",
    "![](https://d3i71xaburhd42.cloudfront.net/d4fb82cbcfda18ebe327e7003ec81ac777666299/3-Figure1-1.png)\n",
    "\n",
    "\n",
    "This project is focused on 3D Reconstruction of Liver. Liver is been segmented from the CT Images and the segmented liver images are used to construct the 3D Mesh Object. It is worth noting that this notebook is mainly focused on reconstruction."
   ]
  },
  {
   "cell_type": "markdown",
   "metadata": {
    "id": "TK8idxDjGY6z",
    "papermill": {
     "duration": 0.04689,
     "end_time": "2020-09-28T12:11:11.648346",
     "exception": false,
     "start_time": "2020-09-28T12:11:11.601456",
     "status": "completed"
    },
    "tags": []
   },
   "source": [
    "# DICOM-CT data 3D visualizations\n",
    "Let's move on to the main topic of this notebook. 3D visualization of medical data is a very broad topic. We will start with reading the data:\n",
    "\n",
    "Sources:\n",
    "* https://gist.github.com/somada141/38d313a65581341f23fd\n",
    "* https://pyscience.wordpress.com/2014/09/11/surface-extraction-creating-a-mesh-from-pixel-data-using-python-and-vtk/\n",
    "\n",
    "## Reading data"
   ]
  },
  {
   "cell_type": "code",
   "execution_count": null,
   "metadata": {},
   "outputs": [],
   "source": [
    "from IPython.display import Image\n",
    "import imageio\n",
    "import os\n",
    "import shutil\n",
    "import matplotlib.pyplot as plt \n",
    "import matplotlib.image as mpimg \n",
    "import gc\n",
    "from vtk.util import numpy_support\n",
    "import numpy\n",
    "import vtk\n",
    "import numpy as np\n",
    "import pydicom\n",
    "import scipy.ndimage\n",
    "from skimage import measure \n",
    "from mpl_toolkits.mplot3d.art3d import Poly3DCollection\n",
    "from os import listdir\n",
    "from plotly.offline import iplot\n",
    "import plotly.figure_factory as FF"
   ]
  },
  {
   "cell_type": "code",
   "execution_count": null,
   "metadata": {},
   "outputs": [],
   "source": [
    "## vtk reading dicom\n",
    "datadir = \"Datasets/CT_Sample/\"\n",
    "reader = vtk.vtkDICOMImageReader()\n",
    "reader.SetDirectoryName(datadir)\n",
    "reader.Update()"
   ]
  },
  {
   "cell_type": "markdown",
   "metadata": {
    "id": "eVKy9v2HGY7x",
    "papermill": {
     "duration": 0.043403,
     "end_time": "2020-09-28T12:11:16.355939",
     "exception": false,
     "start_time": "2020-09-28T12:11:16.312536",
     "status": "completed"
    },
    "tags": []
   },
   "source": [
    "## Windows and LUTs\n",
    "Choosing the right parameters for Windowing is a job for radiologists. Therefore - regardless of the 3D rendering algorithm, we will display our data as points in 3D space with standard windowing. The data displayed below use standard LUTs color palettes for Slicer:\n",
    "\n",
    "Sources: \n",
    "* https://github.com/pletzer/dicom-data-reader/blob/master/python/readVTK.py\n",
    "* https://radiopaedia.org/articles/windowing-ct\n",
    "* https://www.slicer.org/wiki/Documentation/4.1/SlicerApplication/LookupTables/GenericAnatomyColors\n",
    "* https://github.com/Slicer/Slicer/blob/47b845f91ef332e6008af4a166b294912de6d052/Modules/Loadable/VolumeRendering/Logic/vtkSlicerVolumeRenderingLogic.cxx#L458-L540\n",
    "* https://dgobbi.github.io/vtk-dicom/doc/api/image_display.html"
   ]
  },
  {
   "cell_type": "markdown",
   "metadata": {
    "papermill": {
     "duration": 0.04322,
     "end_time": "2020-09-28T12:11:16.443982",
     "exception": false,
     "start_time": "2020-09-28T12:11:16.400762",
     "status": "completed"
    },
    "tags": []
   },
   "source": [
    "### Axial view:"
   ]
  },
  {
   "cell_type": "code",
   "execution_count": null,
   "metadata": {},
   "outputs": [],
   "source": [
    "N =  18\n",
    "default_width = 512\n",
    "default_height = 512\n",
    "\n",
    "def vtk_show(renderer, width = default_width, height = default_height, filename = \"\"):\n",
    "\n",
    "    renderWindow = vtk.vtkRenderWindow()\n",
    "    \n",
    "    renderWindow.SetOffScreenRendering(1)\n",
    "    renderWindow.AddRenderer(renderer)\n",
    "    renderWindow.SetSize(width, height)\n",
    "    renderWindow.Render()\n",
    "     \n",
    "    windowToImageFilter = vtk.vtkWindowToImageFilter()\n",
    "    windowToImageFilter.SetInput(renderWindow)\n",
    "    windowToImageFilter.Update()\n",
    "     \n",
    "    writer = vtk. vtkPNGWriter()\n",
    "    \n",
    "    if filename == \"\":\n",
    "        writer.SetWriteToMemory(1)\n",
    "        writer.SetInputConnection(windowToImageFilter.GetOutputPort())\n",
    "        writer.Write()    \n",
    "        return bytes(memoryview(writer.GetResult()))\n",
    "    else:\n",
    "        writer.SetFileName(filename+\".png\")\n",
    "        writer.SetInputConnection(windowToImageFilter.GetOutputPort())\n",
    "        writer.Write()    \n",
    "        return None\n",
    "\n",
    "\n",
    "def vtk_render_gif(renderer, N, name, Roll = False, Azimuth = False, Elevation = False, Actor = None, RotateX = False, RotateY = False, RotateZ = False, Zoom = 0, Dolly = 0, standard = True, width = default_width, height = default_height):    \n",
    "    if standard:\n",
    "        renderer.ResetCamera()\n",
    "        camera = renderer.MakeCamera()\n",
    "        renderer.ResetCameraClippingRange()\n",
    "        camera.SetPosition(0,0,0)\n",
    "    os.makedirs(name,exist_ok=True)\n",
    "    \n",
    "    if Zoom != 0:\n",
    "        renderer.GetActiveCamera().Zoom(Zoom)\n",
    "        \n",
    "    if Dolly != 0:\n",
    "        renderer.GetActiveCamera().Dolly(Dolly)\n",
    "        \n",
    "    #tmpN = 1\n",
    "    if N >0: # render gif\n",
    "        for fi in range(N):\n",
    "            if Roll:\n",
    "                renderer.GetActiveCamera().Roll(360//N) \n",
    "            if Azimuth:\n",
    "                renderer.GetActiveCamera().Azimuth(360//N) \n",
    "            if Elevation:\n",
    "                renderer.GetActiveCamera().Elevation(360//N)\n",
    "            if Actor is not None:\n",
    "                if RotateX:\n",
    "                    Actor.RotateX(360//N)\n",
    "                if RotateY:\n",
    "                    Actor.RotateY(360//N)\n",
    "                if RotateZ:\n",
    "                    Actor.RotateZ(360//N)                    \n",
    "            vtk_show(renderer,filename = name + \"/shot\"+str(fi), width = width, height = height)\n",
    "        # render gif and cleanup\n",
    "        img_list = []\n",
    "        for fi in range(N):\n",
    "            img_list.append(mpimg.imread(name + '/shot' + str(fi) + '.png'))\n",
    "        shutil.rmtree(name)\n",
    "        imageio.mimsave(name + \".gif\", img_list, duration=0.5)\n"
   ]
  },
  {
   "cell_type": "code",
   "execution_count": null,
   "metadata": {
    "_kg_hide-input": true,
    "execution": {
     "iopub.execute_input": "2020-09-28T12:11:16.821459Z",
     "iopub.status.busy": "2020-09-28T12:11:16.561317Z",
     "iopub.status.idle": "2020-09-28T12:11:21.727033Z",
     "shell.execute_reply": "2020-09-28T12:11:21.727682Z"
    },
    "id": "zzFt2IbBGY7y",
    "papermill": {
     "duration": 5.235974,
     "end_time": "2020-09-28T12:11:21.727846",
     "exception": false,
     "start_time": "2020-09-28T12:11:16.491872",
     "status": "completed"
    },
    "tags": []
   },
   "outputs": [],
   "source": [
    "windowing = {}\n",
    "windowing['lungs'] = [1500,-600,64,123,147]\n",
    "windowing['mediastinum'] = [350,50,255,244,209]\n",
    "windowing['bones'] = [300,400,177,122,101]\n",
    "windowing['blood'] = [5,80,216,101,79]\n",
    "\n",
    "imageData = reader.GetOutput()\n",
    "volumeMapper = vtk.vtkSmartVolumeMapper()\n",
    "volumeMapper.SetInputData(imageData)\n",
    "volumeProperty = vtk.vtkVolumeProperty()\n",
    "volumeProperty.SetInterpolationType(vtk.VTK_LINEAR_INTERPOLATION)\n",
    "\n",
    "for cur_windowing in windowing:\n",
    "    cur_w = windowing[cur_windowing]\n",
    "    opacity_function = vtk.vtkPiecewiseFunction()\n",
    "    opacity_function.AddPoint(cur_w[1]-cur_w[0]/2,   0.0)\n",
    "    opacity_function.AddPoint(cur_w[1],   1.0)\n",
    "    opacity_function.AddPoint(cur_w[1]+cur_w[0]/2,   0.0)\n",
    "    volumeProperty.SetScalarOpacity(opacity_function)\n",
    "\n",
    "    color_function = vtk.vtkColorTransferFunction()\n",
    "    color_function.SetColorSpaceToDiverging()\n",
    "    color_function.AddRGBPoint(cur_w[1]-cur_w[0]/2,0,0,0)\n",
    "    color_function.AddRGBPoint(cur_w[1],cur_w[2],cur_w[3],cur_w[4])\n",
    "    color_function.AddRGBPoint(cur_w[1]+cur_w[0]/2, 0,0,0)\n",
    "\n",
    "    volumeProperty.SetColor(color_function)\n",
    "\n",
    "    volume = vtk.vtkVolume()\n",
    "    volume.SetMapper(volumeMapper)\n",
    "    volume.SetProperty(volumeProperty)\n",
    "\n",
    "    renderer = vtk.vtkRenderer();\n",
    "    volumeMapper.SetRequestedRenderModeToRayCast()\n",
    "    renderer.AddViewProp(volume)\n",
    "    \n",
    "    renderer.ResetCamera()\n",
    "    renderer.SetBackground(1,1,1);\n",
    "    renderer.ResetCamera()\n",
    "    renderer.ResetCameraClippingRange()\n",
    "    camera = renderer.MakeCamera()\n",
    "\n",
    "    camera.SetPosition(0,0,0)\n",
    "    camera = renderer.GetActiveCamera()\n",
    "    camera.Dolly(1.5)\n",
    "\n",
    "\n",
    "    camera.Roll(360)\n",
    "    name = cur_windowing + '_top'\n",
    "    vtk_render_gif(renderer, N = 1 ,name =  name, standard = False)\n",
    "    \n",
    "    name = cur_windowing + '_front'\n",
    "    camera.Elevation(240)\n",
    "    camera.Elevation(20)\n",
    "    vtk_render_gif(renderer, N = 1 ,name =  name, standard = False)\n",
    "    \n",
    "plt.rcParams[\"figure.figsize\"] = (40,40)\n",
    "idp = 0 \n",
    "for cur_windowing in windowing:\n",
    "    idp += 1\n",
    "    plt.subplot(len(windowing),4, idp)\n",
    "    try:\n",
    "        im = mpimg.imread(cur_windowing+'_top.gif') \n",
    "        plt.imshow(im) \n",
    "        plt.title('Windowing: ' + cur_windowing, fontsize =20)\n",
    "    except:\n",
    "        pass"
   ]
  },
  {
   "cell_type": "markdown",
   "metadata": {
    "papermill": {
     "duration": 0.065193,
     "end_time": "2020-09-28T12:11:21.859517",
     "exception": false,
     "start_time": "2020-09-28T12:11:21.794324",
     "status": "completed"
    },
    "tags": []
   },
   "source": [
    "### Coronal view:"
   ]
  },
  {
   "cell_type": "code",
   "execution_count": null,
   "metadata": {
    "_kg_hide-input": true,
    "execution": {
     "iopub.execute_input": "2020-09-28T12:11:22.009986Z",
     "iopub.status.busy": "2020-09-28T12:11:22.008849Z",
     "iopub.status.idle": "2020-09-28T12:11:23.161183Z",
     "shell.execute_reply": "2020-09-28T12:11:23.161728Z"
    },
    "id": "50Bz5vHoGY70",
    "papermill": {
     "duration": 1.236069,
     "end_time": "2020-09-28T12:11:23.161878",
     "exception": false,
     "start_time": "2020-09-28T12:11:21.925809",
     "status": "completed"
    },
    "tags": []
   },
   "outputs": [],
   "source": [
    "plt.rcParams[\"figure.figsize\"] = (40,40)\n",
    "idp = 0 \n",
    "for cur_windowing in windowing:\n",
    "    idp += 1\n",
    "    plt.subplot(len(windowing),4, idp)\n",
    "    try:\n",
    "        im = mpimg.imread(cur_windowing+'_front.gif') \n",
    "        plt.imshow(im) \n",
    "        plt.title('Windowing: ' + cur_windowing, fontsize =20)\n",
    "    except:\n",
    "        pass"
   ]
  },
  {
   "cell_type": "markdown",
   "metadata": {
    "id": "fDEqAOzsGY7Q",
    "papermill": {
     "duration": 0.088822,
     "end_time": "2020-09-28T12:11:23.340588",
     "exception": false,
     "start_time": "2020-09-28T12:11:23.251766",
     "status": "completed"
    },
    "tags": []
   },
   "source": [
    "## 3D reconstruction with manual windowing and MarchingCubes algorithm"
   ]
  },
  {
   "cell_type": "code",
   "execution_count": null,
   "metadata": {},
   "outputs": [],
   "source": [
    "#File path for full upper body CT Image\n",
    "CT_Upper = \"Datasets/CT_Sample/\""
   ]
  },
  {
   "cell_type": "code",
   "execution_count": null,
   "metadata": {},
   "outputs": [],
   "source": [
    "#File paths for segmented images of Patient-1\n",
    "LiverPath = \"Datasets/Patient_Two/Segmented_Liver/\"\n",
    "TumourPath = \"Datasets/Patient_Two/Segmented_Tumour/\"\n",
    "ArteryPath = \"Datasets/Patient_Two/Artery/\"\n",
    "VeinPath = \"Datasets/Patient_Two/Hepatic_Venous/\""
   ]
  },
  {
   "cell_type": "code",
   "execution_count": null,
   "metadata": {},
   "outputs": [],
   "source": [
    "#Get the first image from the dataset\n",
    "sample_image = pydicom.dcmread(LiverPath + \"\\\\\" + listdir(LiverPath)[0]) "
   ]
  },
  {
   "cell_type": "code",
   "execution_count": null,
   "metadata": {},
   "outputs": [],
   "source": [
    "#CT Image Metadata\n",
    "sample_image"
   ]
  },
  {
   "cell_type": "code",
   "execution_count": null,
   "metadata": {},
   "outputs": [],
   "source": [
    "#Read all Dicom Images\n",
    "def LoadDicomImages(Path):\n",
    "    slices = [pydicom.dcmread(Path + \"\\\\\" + file) for file in listdir(Path)] #Get All Images\n",
    "    #Sort the Images based on ImagePositionPatient attribute of the CT Images\n",
    "    slices.sort(key = lambda x: float(x.ImagePositionPatient[2])) \n",
    "    return slices"
   ]
  },
  {
   "cell_type": "code",
   "execution_count": null,
   "metadata": {},
   "outputs": [],
   "source": [
    "#Calculate Hounsfields Values\n",
    "def FindHUValues(slices):\n",
    "    images = np.stack([file.pixel_array for file in slices])\n",
    "    # Convert to int16 (from sometimes int16), \n",
    "\t# should be possible as values should always be low enough (<32k)\n",
    "    images = images.astype(np.int16)\n",
    "    \n",
    "    #Following is ignored - Should be used when the SliceThickness is less than 1\n",
    "    # Set outside-of-scan pixels to 1\n",
    "\t# The intercept is usually -1024, so air is approximately 0\n",
    "    images[images == -2000] = 0\n",
    "    \n",
    "    # Convert to Hounsfield units (HU)\n",
    "    intercept = slices[0].RescaleIntercept\n",
    "    slope = slices[0].RescaleSlope\n",
    "    if slope != 1:\n",
    "        images = slope * images.astype(np.float64)\n",
    "        images = images.astype(np.int16)\n",
    "    images += np.int16(intercept)\n",
    "        \n",
    "    return np.array(images, dtype=np.int16)"
   ]
  },
  {
   "cell_type": "markdown",
   "metadata": {},
   "source": [
    "A scan may have a pixel spacing of [2.5, 0.5, 0.5], which means that the distance between slices is 2.5 millimeters. For a different scan this may be [1.5, 0.725, 0.725], this can be problematic for automatic analysis and 3D Model Generation.\n",
    "\n",
    "A common method of dealing with this is resampling the full dataset to a certain isotropic resolution. If we choose to resample everything to 1mm 1mm 1mm pixels (arbitrary) we can generate 3D model without worrying about learning zoom/slice thickness invariance.\n",
    "\n",
    "Whilst this may seem like a very simple step, it has quite some edge cases due to rounding. Also, it takes quite a while."
   ]
  },
  {
   "cell_type": "code",
   "execution_count": null,
   "metadata": {},
   "outputs": [],
   "source": [
    "#Resampling driver for Stacking the images in the right positions\n",
    "def ResampleImages(image, scan, new_spacing=[1,1,1], label = \"\"):\n",
    "    print(label)\n",
    "    print(\"Shape before re-sampling: \", image.shape)\n",
    "    #Calculate the spacing between the CT Images from the Meta data\n",
    "    spacing = np.array([scan[0].SliceThickness] + list(scan[0].PixelSpacing), dtype=np.float32)\n",
    "    #Apply Resize Factor (new_spacing - Can be changed and try out different values and determine theoptimum by experimentation)\n",
    "    resize_factor = spacing / new_spacing\n",
    "    new_shape = np.round(image.shape * resize_factor)\n",
    "    #Calculate new shape factor\n",
    "    rounded_resize_factor = new_shape / image.shape\n",
    "    rounded_new_spacing = spacing / rounded_resize_factor\n",
    "    #Carry out Image Interpolation - in Nearest Mode\n",
    "    #Mode: Points outside the boundaries of the input are filled according to the given mode (â€˜constantâ€™, â€˜nearestâ€™, â€˜reflectâ€™ or â€˜wrapâ€™)\n",
    "    image = scipy.ndimage.interpolation.zoom(image, rounded_resize_factor, mode='nearest')\n",
    "    print(\"Shape after re-sampling: \", image.shape)\n",
    "    print(\"\")\n",
    "    return image, rounded_new_spacing"
   ]
  },
  {
   "cell_type": "code",
   "execution_count": null,
   "metadata": {},
   "outputs": [],
   "source": [
    "#Get the corresponding Images\n",
    "LiverImages = LoadDicomImages(LiverPath)\n",
    "ArteryImages = LoadDicomImages(ArteryPath)\n",
    "HepaticVenousImages = LoadDicomImages(VeinPath)\n",
    "TumourImages = LoadDicomImages(TumourPath)\n",
    "UpperLimbImages = LoadDicomImages(CT_Upper)"
   ]
  },
  {
   "cell_type": "code",
   "execution_count": null,
   "metadata": {},
   "outputs": [],
   "source": [
    "#Get the HU Values of the images\n",
    "LiverHU = FindHUValues(LiverImages)\n",
    "ArteryHU = FindHUValues(ArteryImages)\n",
    "HepaticVenousHU = FindHUValues(HepaticVenousImages)\n",
    "TumourHU = FindHUValues(TumourImages)\n",
    "UpperLimbHU = FindHUValues(UpperLimbImages)"
   ]
  },
  {
   "cell_type": "code",
   "execution_count": null,
   "metadata": {},
   "outputs": [],
   "source": [
    "#Liver Image in HU Units\n",
    "LiverHU[30][300]"
   ]
  },
  {
   "cell_type": "markdown",
   "metadata": {},
   "source": [
    "HU Values Distribution across Upper Limb CT Image"
   ]
  },
  {
   "cell_type": "code",
   "execution_count": null,
   "metadata": {},
   "outputs": [],
   "source": [
    "plt.rcParams[\"figure.figsize\"] = (10,5)\n",
    "plt.hist(UpperLimbHU.flatten(), bins=80, color='c')\n",
    "plt.xlabel(\"Hounsfield Units (HU)\")\n",
    "plt.ylabel(\"Frequency\")\n",
    "plt.show()"
   ]
  },
  {
   "cell_type": "markdown",
   "metadata": {},
   "source": [
    "HU Values Distribution across Liver CT Image"
   ]
  },
  {
   "cell_type": "code",
   "execution_count": null,
   "metadata": {},
   "outputs": [],
   "source": [
    "plt.rcParams[\"figure.figsize\"] = (10,5)\n",
    "plt.hist(LiverHU.flatten(), bins=80, color='c')\n",
    "plt.xlabel(\"Hounsfield Units (HU)\")\n",
    "plt.ylabel(\"Frequency\")\n",
    "plt.show()\n",
    "\n",
    "# Show some slice in the middle\n",
    "plt.imshow(LiverHU[50], cmap=plt.cm.gray)\n",
    "plt.show()"
   ]
  },
  {
   "cell_type": "code",
   "execution_count": null,
   "metadata": {},
   "outputs": [],
   "source": [
    "plt.hist(LiverHU.flatten(), bins=80, color='c', range=[1, 200])\n",
    "plt.xlabel(\"Hounsfield Units (HU)\")\n",
    "plt.ylabel(\"Frequency\")\n",
    "plt.show()\n",
    "\n",
    "# Show some slice in the middle\n",
    "plt.imshow(LiverHU[50], cmap=plt.cm.gray)\n",
    "plt.show()"
   ]
  },
  {
   "cell_type": "code",
   "execution_count": null,
   "metadata": {},
   "outputs": [],
   "source": [
    "#Resample all the Images\n",
    "ResampledLiver, LiverSpacing= ResampleImages(LiverHU, LiverImages, label = \"Liver\")\n",
    "ResampledArtery, ArterySpacing= ResampleImages(ArteryHU, ArteryImages, label = \"Artery\")\n",
    "ResampledHepaticVein, HepaticVeinSpacing= ResampleImages(HepaticVenousHU, HepaticVenousImages, label = \"Hepatic Vein\")\n",
    "ResampledTumour, TumourSpaing = ResampleImages(TumourHU, TumourImages, label = \"Tumour\")\n",
    "ResampledUpperLimb, UpperLimbSpacing= ResampleImages(UpperLimbHU, UpperLimbImages, label = \"Upper Limb\")"
   ]
  },
  {
   "cell_type": "code",
   "execution_count": null,
   "metadata": {},
   "outputs": [],
   "source": [
    "#Rotate the 3D Mesh so that the horizontal stack will be converted into a vertical stack\n",
    "Liver = ResampledLiver.transpose(2,1,0)\n",
    "Artery = ResampledArtery.transpose(2,1,0)\n",
    "HepaticVein = ResampledHepaticVein.transpose(2,1,0)\n",
    "Tumour = ResampledTumour.transpose(2,1,0)\n",
    "UpperLimb = ResampledUpperLimb.transpose(2,1,0)"
   ]
  },
  {
   "cell_type": "markdown",
   "metadata": {},
   "source": [
    "To Visualize a single set of images"
   ]
  },
  {
   "cell_type": "code",
   "execution_count": null,
   "metadata": {},
   "outputs": [],
   "source": [
    "#Convert the sampled Co-ordinates into 3D Mesh\n",
    "def ViewMesh(sampledImages, threshold=30, title = \"\", plot_edges = False, \n",
    "             colormap=['rgba(255, 0, 0, 0.5)','rgba(255, 0, 0, 0.5)']):\n",
    "    #Marching Cubes Lewiner\n",
    "    #Change the threshold and other default values of the function to experiment different results\n",
    "    #Returns Vertices, faces\n",
    "    verts, faces,_,_ = measure.marching_cubes(sampledImages, threshold)\n",
    "    #Convert vertices and 3D points array\n",
    "    x,y,z = zip(*verts)\n",
    "    #Create a 3D figure map\n",
    "    figure = FF.create_trisurf(x=x, y=y, z=z, \n",
    "                            plot_edges=plot_edges,\n",
    "                            colormap=colormap,\n",
    "                            simplices=faces,\n",
    "                            backgroundcolor='rgb(64, 64, 64)',\n",
    "                            title=title)\n",
    "    figure['data'][0].update(opacity=0.5)\n",
    "    iplot(figure) "
   ]
  },
  {
   "cell_type": "markdown",
   "metadata": {},
   "source": [
    "Combine n number of images to create a 3D Model"
   ]
  },
  {
   "cell_type": "code",
   "execution_count": null,
   "metadata": {},
   "outputs": [],
   "source": [
    "#Convert the sampled Co-ordinates into 3D Mesh\n",
    "def ViewCombinedMesh(sampledImages, colorMap = [], threshold=30, title = \"\", plot_edges = False):\n",
    "    #Marching Cubes Lewiner\n",
    "    #Change the threshold and other default values of the function to experiment different results\n",
    "    #Returns Vertices, faces\n",
    "    figures = []    \n",
    "    for i in range(len(sampledImages)):\n",
    "        verts, faces,_,_ = measure.marching_cubes(sampledImages[i], threshold)\n",
    "        #Convert vertices and 3D points array\n",
    "        x,y,z = zip(*verts)\n",
    "        #Create a 3D figure map\n",
    "        if len(colorMap)>=i+1:\n",
    "            currentMap = colorMap[i]\n",
    "        else:\n",
    "            currentMap = ['rgba(255, 0, 0, 0.5)','rgba(255, 0, 0, 0.5)']    \n",
    "        figure = FF.create_trisurf(x=x, y=y, z=z, \n",
    "                            plot_edges=plot_edges,\n",
    "                            colormap=currentMap,\n",
    "                            simplices=faces,\n",
    "                            backgroundcolor='rgb(64, 64, 64)',\n",
    "                            title=(title if i==0 else \"\"))\n",
    "        figure['data'][0].update(opacity=0.5)\n",
    "        figures.append(figure.data[0])\n",
    "        figures.append(figure.data[1])\n",
    "    iplot(figures)\n",
    "    "
   ]
  },
  {
   "cell_type": "markdown",
   "metadata": {},
   "source": [
    "# 3D Visualization of Liver"
   ]
  },
  {
   "cell_type": "code",
   "execution_count": null,
   "metadata": {},
   "outputs": [],
   "source": [
    "#Plot the 3D Model of the Liver\n",
    "ViewMesh(Liver, threshold=35)"
   ]
  },
  {
   "cell_type": "markdown",
   "metadata": {},
   "source": [
    "# 3D Visualization of Upper Limb"
   ]
  },
  {
   "cell_type": "code",
   "execution_count": null,
   "metadata": {},
   "outputs": [],
   "source": [
    "#Plot the 3D Model of the Upper Limb\n",
    "ViewMesh(UpperLimb, threshold=25, colormap=['rgba(255, 0, 255, 0.5)','rgba(255, 0, 255, 0.5)'])"
   ]
  },
  {
   "cell_type": "markdown",
   "metadata": {},
   "source": [
    "# 3D Visualization of Liver and Tumour"
   ]
  },
  {
   "cell_type": "code",
   "execution_count": null,
   "metadata": {},
   "outputs": [],
   "source": [
    "ViewCombinedMesh([Liver, Tumour], threshold = 30, title = \"3D Model\", colorMap = [\n",
    "    ['rgba(255, 0, 0, 0.5)','rgba(255, 0, 0, 0.5)'],\n",
    "    ['rgba(0, 0, 255, 0.5)','rgba(0, 0, 255, 0.5)']\n",
    "])"
   ]
  },
  {
   "cell_type": "markdown",
   "metadata": {},
   "source": [
    "# 3D visualization Liver(Full CT Input) "
   ]
  },
  {
   "cell_type": "code",
   "execution_count": null,
   "metadata": {},
   "outputs": [],
   "source": [
    "ViewCombinedMesh([Liver, Tumour, Artery, HepaticVein], threshold = 30, title = \"3D Model\", colorMap = [\n",
    "    ['rgba(255, 0, 0, 0.5)','rgba(255, 0, 0, 0.5)'],\n",
    "    ['rgba(0, 0, 255, 0.5)','rgba(0, 0, 255, 0.5)'],\n",
    "    ['rgba(0, 255, 0, 0.5)','rgba(0, 255, 0, 0.5)'],\n",
    "    ['rgba(255, 255, 0, 0.5)','rgba(255, 255, 0, 0.5)'],\n",
    "])"
   ]
  },
  {
   "cell_type": "code",
   "execution_count": null,
   "metadata": {},
   "outputs": [],
   "source": [
    "#Segregating Tumour into portions based on HU Value Threshold\n",
    "MildHU = np.where(TumourHU <= 46, 0, TumourHU)\n",
    "\n",
    "ModerateHUDummy = np.where(TumourHU <= 91, 0, TumourHU)\n",
    "ModerateHU = np.where(ModerateHUDummy >= 46, 0, ModerateHUDummy)\n",
    "\n",
    "AggressiveHU = np.where(TumourHU >= 91, 0, TumourHU)\n",
    "\n",
    "#The above variations can be also used to create a the 3D Model. \n",
    "#This follows same procedure, from Resampling to 3D Model Generation."
   ]
  },
  {
   "cell_type": "markdown",
   "metadata": {},
   "source": [
    "# Volumetry"
   ]
  },
  {
   "cell_type": "code",
   "execution_count": null,
   "metadata": {},
   "outputs": [],
   "source": [
    "def FindVolume(slices, hu_values):\n",
    "    #slices - Image Slices\n",
    "    #hu_values - Corresponding HU Values\n",
    "    volume = 0\n",
    "    for i in range(len(hu_values)):\n",
    "        for j in range(len(hu_values[i])):\n",
    "            #Calculate Surface area of every 2D Image from the pixel spacing and the corresponding HU Values\n",
    "            surface_area = (slices[i].PixelSpacing[0] * slices[i].PixelSpacing[1] * np.count_nonzero(hu_values[i,j]))\n",
    "            #Scale the area across SliceThickness\n",
    "            volume += (slices[i].SliceThickness * surface_area)\n",
    "    return (volume/1000)"
   ]
  },
  {
   "cell_type": "code",
   "execution_count": null,
   "metadata": {},
   "outputs": [],
   "source": [
    "\"Liver Volume: \"+ str(FindVolume(LiverImages, LiverHU)) + \" cc\""
   ]
  },
  {
   "cell_type": "code",
   "execution_count": null,
   "metadata": {},
   "outputs": [],
   "source": [
    "\"Tumour Volume: \"+ str(FindVolume(TumourImages, TumourHU)) + \" cc\""
   ]
  },
  {
   "cell_type": "code",
   "execution_count": null,
   "metadata": {},
   "outputs": [],
   "source": [
    "\"Healthy Liver Volume: \"+ str(FindVolume(LiverImages, LiverHU)-FindVolume(TumourImages, TumourHU)) + \" cc\""
   ]
  },
  {
   "cell_type": "code",
   "execution_count": null,
   "metadata": {},
   "outputs": [],
   "source": [
    "\"Artery Volume: \"+ str(FindVolume(ArteryImages, ArteryHU)) + \" cc\""
   ]
  },
  {
   "cell_type": "code",
   "execution_count": null,
   "metadata": {},
   "outputs": [],
   "source": [
    "\"HepaticVein Volume: \"+ str(FindVolume(HepaticVenousImages, HepaticVenousHU)) + \" cc\""
   ]
  }
 ],
 "metadata": {
  "kernelspec": {
   "display_name": "Python 3",
   "language": "python",
   "name": "python3"
  },
  "language_info": {
   "codemirror_mode": {
    "name": "ipython",
    "version": 3
   },
   "file_extension": ".py",
   "mimetype": "text/x-python",
   "name": "python",
   "nbconvert_exporter": "python",
   "pygments_lexer": "ipython3",
   "version": "3.8.8"
  },
  "papermill": {
   "duration": 1084.684711,
   "end_time": "2020-09-28T12:28:56.059936",
   "environment_variables": {},
   "exception": null,
   "input_path": "__notebook__.ipynb",
   "output_path": "__notebook__.ipynb",
   "parameters": {},
   "start_time": "2020-09-28T12:10:51.375225",
   "version": "2.1.0"
  }
 },
 "nbformat": 4,
 "nbformat_minor": 4
}
